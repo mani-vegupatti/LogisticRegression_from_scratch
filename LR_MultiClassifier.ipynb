{
 "cells": [
  {
   "cell_type": "code",
   "execution_count": 1,
   "metadata": {},
   "outputs": [],
   "source": [
    "import numpy as np\n",
    "import matplotlib.pyplot as plt\n",
    "from sklearn import datasets\n",
    "import seaborn as sns"
   ]
  },
  {
   "cell_type": "code",
   "execution_count": 2,
   "metadata": {},
   "outputs": [],
   "source": [
    "dataset= np.array([[2.7810836,2.550537003],[1.465489372,2.362125076]])\n",
    "coef = np.array([-0.406605464, 0.852573316, -1.104746259])\n",
    "params = np.array([0, 0, 0])\n",
    "y = np.array([0,0])"
   ]
  },
  {
   "cell_type": "code",
   "execution_count": 3,
   "metadata": {},
   "outputs": [],
   "source": [
    "def sigmoid(X, weight):\n",
    "    z = np.dot(X, weight)\n",
    "    return 1 / (1 + np.exp(-z))"
   ]
  },
  {
   "cell_type": "code",
   "execution_count": 4,
   "metadata": {},
   "outputs": [],
   "source": [
    "def loss(h, y):\n",
    "    return (-y * np.log(h) - (1 - y) * np.log(1 - h)).mean()"
   ]
  },
  {
   "cell_type": "code",
   "execution_count": 5,
   "metadata": {},
   "outputs": [],
   "source": [
    "def gradient_descent(X, h, y):\n",
    "    return np.dot(X.T, (h - y)) / y.shape[0]\n",
    "def update_weight_loss(weight, learning_rate, gradient):\n",
    "    return weight - learning_rate * gradient"
   ]
  },
  {
   "cell_type": "code",
   "execution_count": 6,
   "metadata": {},
   "outputs": [
    {
     "name": "stdout",
     "output_type": "stream",
     "text": [
      "[-1.16895967 -2.01885295 -2.80501745]\n",
      "[8.84838939e-07 2.13728175e-05]\n"
     ]
    }
   ],
   "source": [
    "X = dataset\n",
    "y = y\n",
    "num_iter = 100000\n",
    "intercept = np.ones((X.shape[0], 1))\n",
    "X = np.concatenate((intercept, X), axis=1)\n",
    "theta = np.zeros(X.shape[1])\n",
    "for i in range(num_iter):\n",
    "    h = sigmoid(X, theta)\n",
    "    gradient = gradient_descent(X, h, y)\n",
    "    theta = update_weight_loss(theta, 0.1, gradient)\n",
    "print(theta)\n",
    "result = sigmoid(X, theta)\n",
    "print(result)"
   ]
  },
  {
   "cell_type": "code",
   "execution_count": 7,
   "metadata": {},
   "outputs": [],
   "source": [
    "X = datasets.load_iris"
   ]
  },
  {
   "cell_type": "code",
   "execution_count": 8,
   "metadata": {},
   "outputs": [],
   "source": [
    "data = np.loadtxt('university_Admissions.txt', delimiter=\",\")"
   ]
  },
  {
   "cell_type": "code",
   "execution_count": 9,
   "metadata": {},
   "outputs": [],
   "source": [
    "x = data[:, 0:2]\n",
    "y = data[:, 2]"
   ]
  },
  {
   "cell_type": "code",
   "execution_count": 10,
   "metadata": {},
   "outputs": [
    {
     "name": "stdout",
     "output_type": "stream",
     "text": [
      "[[34.62 78.02  0.  ]\n",
      " [30.29 43.89  0.  ]\n",
      " [35.85 72.9   0.  ]\n",
      " [60.18 86.31  1.  ]\n",
      " [79.03 75.34  1.  ]]\n"
     ]
    }
   ],
   "source": [
    "print(data[:5])"
   ]
  },
  {
   "cell_type": "code",
   "execution_count": 11,
   "metadata": {},
   "outputs": [
    {
     "name": "stdout",
     "output_type": "stream",
     "text": [
      "[-9.0911091   4.98877706 -3.32151746]\n",
      "[0.   0.02 0.   0.99 1.  ]\n"
     ]
    }
   ],
   "source": [
    "X = x\n",
    "y = y\n",
    "num_iter = 100000\n",
    "intercept = np.ones((X.shape[0], 1))\n",
    "X = np.concatenate((intercept, X), axis=1)\n",
    "theta = np.zeros(X.shape[1])\n",
    "for i in range(num_iter):\n",
    "    h = sigmoid(X, theta)\n",
    "    gradient = gradient_descent(X, h, y)\n",
    "    theta = update_weight_loss(theta, 0.01, gradient)\n",
    "print(theta)\n",
    "result = sigmoid(X, theta)\n",
    "print(np.round(result,2))"
   ]
  },
  {
   "cell_type": "code",
   "execution_count": 12,
   "metadata": {},
   "outputs": [],
   "source": [
    "def compute_theta(X, y, theta):\n",
    "    for i in range(num_iter):\n",
    "        h = sigmoid(X, theta)\n",
    "        gradient = gradient_descent(X, h, y)\n",
    "        theta = update_weight_loss(theta, 0.1, gradient)\n",
    "    #print(theta)\n",
    "    return(theta)\n",
    "    #theta = update_weight_loss(theta, 0.1, gradient_descent(X, sigmoid(X, theta), y)) for i in range(num_iter)"
   ]
  },
  {
   "cell_type": "code",
   "execution_count": 13,
   "metadata": {},
   "outputs": [],
   "source": [
    "def transform_x(X):    \n",
    "    intercept = np.ones((X.shape[0], 1))\n",
    "    X = np.concatenate((intercept, X), axis=1)\n",
    "    return(X)"
   ]
  },
  {
   "cell_type": "code",
   "execution_count": 14,
   "metadata": {},
   "outputs": [
    {
     "name": "stdout",
     "output_type": "stream",
     "text": [
      "[0. 0. 0. 1. 1.]\n"
     ]
    }
   ],
   "source": [
    "X = x\n",
    "y = y\n",
    "num_iter = 100000\n",
    "X = transform_x(X)\n",
    "int_theta = np.zeros(X.shape[1])\n",
    "theta = compute_theta(X, y, int_theta)\n",
    "result = sigmoid(X, theta)\n",
    "print(np.round(result,2))"
   ]
  },
  {
   "cell_type": "code",
   "execution_count": 15,
   "metadata": {},
   "outputs": [],
   "source": [
    "def ova(X, y):\n",
    "    X = transform_x(X)\n",
    "    \n",
    "    num_observations = X.shape[0]\n",
    "    num_features = X.shape[1]\n",
    "    labels = np.unique(y)\n",
    "    num_labels = np.shape(np.unique(y))[0] \n",
    "    \n",
    "    classifiers = np.zeros(shape=(num_labels, num_features))\n",
    "        \n",
    "    dict_label = {}\n",
    "    for i in range(num_labels):\n",
    "        dict_label[i] = labels[i]\n",
    "        label = (y == labels[i]).astype(int)\n",
    "        #print(label)\n",
    "        int_theta = np.zeros(X.shape[1])\n",
    "        classifiers[i, :] = compute_theta(X, label, int_theta)\n",
    "        \n",
    "    result = sigmoid(X, classifiers.transpose())\n",
    "    predictions = result.argmax(axis=1)  \n",
    "    y_pred = np.array([dict_label[i] for i in predictions])\n",
    "    #return result, dict_label, predictions\n",
    "    return y_pred, classifiers, dict_label\n",
    "        "
   ]
  },
  {
   "cell_type": "code",
   "execution_count": 16,
   "metadata": {},
   "outputs": [
    {
     "name": "stdout",
     "output_type": "stream",
     "text": [
      "(array([0., 0., 0., 1., 1.]), array([[ 41.72386103,  41.72386103, -25.98243347,  16.38296468],\n",
      "       [-41.72386103, -41.72386103,  25.98243347, -16.38296468]]), {0: 0.0, 1: 1.0})\n"
     ]
    }
   ],
   "source": [
    "X = x\n",
    "y = y\n",
    "num_iter = 100000\n",
    "X = transform_x(X)\n",
    "int_theta = np.zeros(X.shape[1])\n",
    "result = ova(X, y)\n",
    "print(result)"
   ]
  },
  {
   "cell_type": "code",
   "execution_count": 17,
   "metadata": {},
   "outputs": [
    {
     "name": "stdout",
     "output_type": "stream",
     "text": [
      "(array([0, 0, 0, 0, 0, 0, 0, 0, 0, 0, 0, 0, 0, 0, 0, 0, 0, 0, 0, 0, 0, 0,\n",
      "       0, 0, 0, 0, 0, 0, 0, 0, 0, 0, 0, 0, 0, 0, 0, 0, 0, 0, 0, 0, 0, 0,\n",
      "       0, 0, 0, 0, 0, 0, 1, 1, 1, 1, 1, 1, 1, 1, 1, 1, 1, 1, 1, 1, 1, 1,\n",
      "       1, 1, 1, 1, 2, 1, 1, 1, 1, 1, 1, 1, 1, 1, 1, 1, 1, 2, 1, 1, 1, 1,\n",
      "       1, 1, 1, 1, 1, 1, 1, 1, 1, 1, 1, 1, 2, 2, 2, 2, 2, 2, 2, 2, 2, 2,\n",
      "       2, 2, 2, 2, 2, 2, 2, 2, 2, 2, 2, 2, 2, 2, 2, 2, 2, 2, 2, 2, 2, 2,\n",
      "       2, 1, 2, 2, 2, 2, 2, 2, 2, 2, 2, 2, 2, 2, 2, 2, 2, 2]), array([[  0.66188151,   0.66188151,   1.01745045,   3.81018116,\n",
      "         -6.06645969,  -2.87497669],\n",
      "       [  3.68924327,   3.68924327,  -0.24535671,  -2.79656809,\n",
      "          1.31364331,  -2.77834391],\n",
      "       [-10.35906919, -10.35906919,  -3.172289  ,  -5.01690089,\n",
      "          7.07583322,  11.96281996]]), {0: 0, 1: 1, 2: 2})\n"
     ]
    }
   ],
   "source": [
    "data = datasets.load_iris()\n",
    "X = data['data']\n",
    "y = data['target']\n",
    "num_iter = 100000\n",
    "X = transform_x(X)\n",
    "int_theta = np.zeros(X.shape[1])\n",
    "y_pred = ova(X, y)\n",
    "#print(result[2])\n",
    "print(y_pred)"
   ]
  },
  {
   "cell_type": "code",
   "execution_count": null,
   "metadata": {},
   "outputs": [],
   "source": [
    "from sklearn.metrics import accuracy_score\n",
    "print(accuracy_score(y, y_pred))\n"
   ]
  },
  {
   "cell_type": "code",
   "execution_count": 19,
   "metadata": {},
   "outputs": [],
   "source": [
    "import pandas as pd\n",
    "import numpy as np\n",
    "from sklearn import tree, model_selection, metrics, tree, naive_bayes, svm, neural_network \n",
    "from sklearn.metrics import accuracy_score\n",
    "from sklearn.metrics import roc_curve\n",
    "from sklearn.metrics import roc_auc_score"
   ]
  },
  {
   "cell_type": "code",
   "execution_count": 20,
   "metadata": {},
   "outputs": [],
   "source": [
    "col_name = ['sample_id', 'length', 'width', 'thickness', 'surface_area', \n",
    "                  'mass', 'compactness', 'hardness', 'shell_top_radius', 'water_content', \n",
    "                  'carbohydrate_content', 'variety']\n",
    "df = pd.read_csv('2602567.txt', sep='\\t', header=None )\n",
    "new_df = df.transpose()\n",
    "new_df.columns = col_name\n",
    "new_df.set_index(['sample_id'])\n",
    "\n",
    "features_x = new_df.loc[ :, 'length':'carbohydrate_content']\n",
    "target_y = new_df.loc[ :, 'variety']\n",
    "features_x = features_x.astype(float)\n",
    "X_train, X_test, y_train, y_test = model_selection.train_test_split(features_x, target_y, test_size=0.3)\n"
   ]
  },
  {
   "cell_type": "code",
   "execution_count": 21,
   "metadata": {},
   "outputs": [
    {
     "name": "stdout",
     "output_type": "stream",
     "text": [
      "['c_cornuta' 'c_cornuta' 'c_americana' 'c_avellana' 'c_americana'\n",
      " 'c_cornuta' 'c_americana' 'c_cornuta' 'c_americana' 'c_americana'\n",
      " 'c_cornuta' 'c_americana' 'c_avellana' 'c_cornuta' 'c_americana'\n",
      " 'c_avellana' 'c_americana' 'c_americana' 'c_americana' 'c_cornuta'\n",
      " 'c_cornuta' 'c_americana' 'c_cornuta' 'c_cornuta' 'c_cornuta' 'c_cornuta'\n",
      " 'c_avellana' 'c_avellana' 'c_cornuta' 'c_americana' 'c_avellana'\n",
      " 'c_cornuta' 'c_cornuta' 'c_cornuta' 'c_avellana' 'c_americana'\n",
      " 'c_americana' 'c_americana' 'c_avellana' 'c_cornuta' 'c_americana'\n",
      " 'c_avellana' 'c_americana' 'c_avellana' 'c_americana' 'c_cornuta'\n",
      " 'c_americana' 'c_americana' 'c_americana' 'c_americana' 'c_cornuta'\n",
      " 'c_cornuta' 'c_avellana' 'c_avellana' 'c_americana' 'c_cornuta'\n",
      " 'c_cornuta' 'c_americana' 'c_americana' 'c_americana' 'c_americana'\n",
      " 'c_avellana' 'c_cornuta' 'c_americana' 'c_avellana' 'c_americana'\n",
      " 'c_americana' 'c_cornuta' 'c_cornuta' 'c_cornuta' 'c_americana'\n",
      " 'c_cornuta' 'c_americana' 'c_avellana' 'c_americana' 'c_americana'\n",
      " 'c_americana' 'c_cornuta' 'c_americana' 'c_cornuta' 'c_americana'\n",
      " 'c_cornuta' 'c_avellana' 'c_avellana' 'c_avellana' 'c_avellana'\n",
      " 'c_cornuta' 'c_cornuta' 'c_cornuta' 'c_americana' 'c_avellana'\n",
      " 'c_americana' 'c_americana' 'c_avellana' 'c_cornuta' 'c_cornuta'\n",
      " 'c_avellana' 'c_avellana' 'c_cornuta' 'c_cornuta' 'c_avellana'\n",
      " 'c_cornuta' 'c_cornuta' 'c_americana' 'c_americana' 'c_avellana'\n",
      " 'c_cornuta' 'c_americana' 'c_cornuta' 'c_cornuta' 'c_americana'\n",
      " 'c_avellana' 'c_americana' 'c_avellana' 'c_avellana' 'c_avellana'\n",
      " 'c_avellana' 'c_avellana' 'c_avellana' 'c_americana' 'c_cornuta'\n",
      " 'c_cornuta' 'c_americana' 'c_avellana' 'c_americana' 'c_americana'\n",
      " 'c_cornuta' 'c_avellana' 'c_americana' 'c_cornuta' 'c_cornuta'\n",
      " 'c_cornuta' 'c_cornuta' 'c_avellana' 'c_americana' 'c_avellana'\n",
      " 'c_cornuta' 'c_americana' 'c_avellana' 'c_cornuta']\n"
     ]
    }
   ],
   "source": [
    "X = X_train\n",
    "y = y_train\n",
    "num_iter = 100000\n",
    "int_theta = np.zeros(X.shape[1])\n",
    "result = ova(X, y)\n",
    "#print(result[2])\n",
    "print(result[0])"
   ]
  },
  {
   "cell_type": "code",
   "execution_count": 22,
   "metadata": {},
   "outputs": [
    {
     "name": "stdout",
     "output_type": "stream",
     "text": [
      "0.8285714285714286\n"
     ]
    }
   ],
   "source": [
    "print(accuracy_score(y, result[0]))"
   ]
  },
  {
   "cell_type": "code",
   "execution_count": 23,
   "metadata": {},
   "outputs": [
    {
     "name": "stdout",
     "output_type": "stream",
     "text": [
      "(array(['c_cornuta', 'c_cornuta', 'c_americana', 'c_avellana',\n",
      "       'c_americana', 'c_cornuta', 'c_americana', 'c_cornuta',\n",
      "       'c_americana', 'c_americana', 'c_cornuta', 'c_americana',\n",
      "       'c_avellana', 'c_cornuta', 'c_americana', 'c_avellana',\n",
      "       'c_americana', 'c_americana', 'c_americana', 'c_cornuta',\n",
      "       'c_cornuta', 'c_americana', 'c_cornuta', 'c_cornuta', 'c_cornuta',\n",
      "       'c_cornuta', 'c_avellana', 'c_avellana', 'c_cornuta',\n",
      "       'c_americana', 'c_avellana', 'c_cornuta', 'c_cornuta', 'c_cornuta',\n",
      "       'c_avellana', 'c_americana', 'c_americana', 'c_americana',\n",
      "       'c_avellana', 'c_cornuta', 'c_americana', 'c_avellana',\n",
      "       'c_americana', 'c_avellana', 'c_americana', 'c_cornuta',\n",
      "       'c_americana', 'c_americana', 'c_americana', 'c_americana',\n",
      "       'c_cornuta', 'c_cornuta', 'c_avellana', 'c_avellana',\n",
      "       'c_americana', 'c_cornuta', 'c_cornuta', 'c_americana',\n",
      "       'c_americana', 'c_americana', 'c_americana', 'c_avellana',\n",
      "       'c_cornuta', 'c_americana', 'c_avellana', 'c_americana',\n",
      "       'c_americana', 'c_cornuta', 'c_cornuta', 'c_cornuta',\n",
      "       'c_americana', 'c_cornuta', 'c_americana', 'c_avellana',\n",
      "       'c_americana', 'c_americana', 'c_americana', 'c_cornuta',\n",
      "       'c_americana', 'c_cornuta', 'c_americana', 'c_cornuta',\n",
      "       'c_avellana', 'c_avellana', 'c_avellana', 'c_avellana',\n",
      "       'c_cornuta', 'c_cornuta', 'c_cornuta', 'c_americana', 'c_avellana',\n",
      "       'c_americana', 'c_americana', 'c_avellana', 'c_cornuta',\n",
      "       'c_cornuta', 'c_avellana', 'c_avellana', 'c_cornuta', 'c_cornuta',\n",
      "       'c_avellana', 'c_cornuta', 'c_cornuta', 'c_americana',\n",
      "       'c_americana', 'c_avellana', 'c_cornuta', 'c_americana',\n",
      "       'c_cornuta', 'c_cornuta', 'c_americana', 'c_avellana',\n",
      "       'c_americana', 'c_avellana', 'c_avellana', 'c_avellana',\n",
      "       'c_avellana', 'c_avellana', 'c_avellana', 'c_americana',\n",
      "       'c_cornuta', 'c_cornuta', 'c_americana', 'c_avellana',\n",
      "       'c_americana', 'c_americana', 'c_cornuta', 'c_avellana',\n",
      "       'c_americana', 'c_cornuta', 'c_cornuta', 'c_cornuta', 'c_cornuta',\n",
      "       'c_avellana', 'c_americana', 'c_avellana', 'c_cornuta',\n",
      "       'c_americana', 'c_avellana', 'c_cornuta'], dtype='<U11'), array([[ 3.87698488e+01, -2.15430764e+03,  6.52780589e+02,\n",
      "         4.41163981e+02, -1.39961699e+03,  5.02607993e+01,\n",
      "         6.60821759e+01, -4.93891203e+03, -4.91193988e+02,\n",
      "        -1.20203479e+00,  5.65129434e+00],\n",
      "       [ 4.24277919e+01, -8.17492791e+02, -4.77209045e+02,\n",
      "        -2.33829779e+02, -2.56540562e+03,  6.50419304e+01,\n",
      "         2.05082360e+01,  1.76779186e+03,  1.82723831e+02,\n",
      "        -2.82430190e+00,  7.79921279e+00],\n",
      "       [-6.05303821e+01,  1.60759443e+03,  1.05509519e+02,\n",
      "        -4.32178202e+01,  3.05239623e+03, -1.12739914e+02,\n",
      "        -5.32968175e+01,  5.13097047e+02,  8.37808200e+01,\n",
      "         6.89354845e+00, -1.10656735e+01]]), {0: 'c_americana', 1: 'c_avellana', 2: 'c_cornuta'})\n"
     ]
    }
   ],
   "source": [
    "print(result)"
   ]
  },
  {
   "cell_type": "code",
   "execution_count": 24,
   "metadata": {},
   "outputs": [
    {
     "name": "stdout",
     "output_type": "stream",
     "text": [
      "(61, 11)\n",
      "(61,)\n",
      "(3, 11)\n",
      "177      c_cornuta\n",
      "152     c_avellana\n",
      "138     c_avellana\n",
      "165      c_cornuta\n",
      "10       c_cornuta\n",
      "120     c_avellana\n",
      "96     c_americana\n",
      "150     c_avellana\n",
      "8      c_americana\n",
      "157     c_avellana\n",
      "43       c_cornuta\n",
      "178    c_americana\n",
      "102    c_americana\n",
      "87     c_americana\n",
      "53      c_avellana\n",
      "94     c_americana\n",
      "117     c_avellana\n",
      "158     c_avellana\n",
      "118     c_avellana\n",
      "184    c_americana\n",
      "116    c_americana\n",
      "74      c_avellana\n",
      "137      c_cornuta\n",
      "181      c_cornuta\n",
      "72       c_cornuta\n",
      "99      c_avellana\n",
      "171     c_avellana\n",
      "13     c_americana\n",
      "148      c_cornuta\n",
      "168     c_avellana\n",
      "          ...     \n",
      "108      c_cornuta\n",
      "186    c_americana\n",
      "5        c_cornuta\n",
      "85     c_americana\n",
      "4      c_americana\n",
      "124      c_cornuta\n",
      "14       c_cornuta\n",
      "27     c_americana\n",
      "109    c_americana\n",
      "163    c_americana\n",
      "22     c_americana\n",
      "0       c_avellana\n",
      "159    c_americana\n",
      "131     c_avellana\n",
      "129    c_americana\n",
      "128      c_cornuta\n",
      "127    c_americana\n",
      "134      c_cornuta\n",
      "30     c_americana\n",
      "76       c_cornuta\n",
      "125    c_americana\n",
      "75     c_americana\n",
      "3       c_avellana\n",
      "189      c_cornuta\n",
      "64       c_cornuta\n",
      "114    c_americana\n",
      "54     c_americana\n",
      "78      c_avellana\n",
      "52       c_cornuta\n",
      "29      c_avellana\n",
      "Name: variety, Length: 61, dtype: object\n",
      "0.8524590163934426\n"
     ]
    }
   ],
   "source": [
    "print(transform_x(X_test).shape)\n",
    "print(y_test.shape)\n",
    "print(result[1].shape)\n",
    "#print()\n",
    "y_result = sigmoid(transform_x(X_test), result[1].transpose())\n",
    "predictions = y_result.argmax(axis=1)  \n",
    "y_pred = np.array([result[2][i] for i in predictions])\n",
    "print(y_test)\n",
    "print(accuracy_score(y_test, y_pred))\n"
   ]
  },
  {
   "cell_type": "code",
   "execution_count": null,
   "metadata": {},
   "outputs": [],
   "source": [
    "#import random\n",
    "#print(new_df.head(5))\n",
    "for i in range(2):\n",
    "    shuf_df = new_df.sample(frac=1).reset_index(drop=True)\n",
    "    #print(shuf_df.head(5))\n",
    "    \n",
    "    \n",
    "    features_x = new_df.loc[ :, 'length':'carbohydrate_content']\n",
    "    target_y = new_df.loc[ :, 'variety']\n",
    "    features_x = features_x.astype(float)\n",
    "    X_train, X_test, y_train, y_test = model_selection.train_test_split(features_x, target_y, test_size=0.3)\n",
    "        \n",
    "    X = X_train\n",
    "    y = y_train\n",
    "    num_iter = 100000\n",
    "    int_theta = np.zeros(X.shape[1])\n",
    "    result = ova(X, y)\n",
    "    \n",
    "    print(\"\\nTrain \", i,\" Result\")\n",
    "    print(accuracy_score(y, result[0]))\n",
    "    \n",
    "    test_result = sigmoid(transform_x(X_test), result[1].transpose())\n",
    "    test_predictions = test_result.argmax(axis=1)  \n",
    "    y_pred = np.array([result[2][i] for i in test_predictions])\n",
    "    \n",
    "    print(\"\\nTest \", i, \" Result\")\n",
    "    print(accuracy_score(y_test, y_pred))\n",
    "    \n",
    "    "
   ]
  },
  {
   "cell_type": "code",
   "execution_count": null,
   "metadata": {},
   "outputs": [],
   "source": []
  },
  {
   "cell_type": "code",
   "execution_count": null,
   "metadata": {},
   "outputs": [],
   "source": []
  }
 ],
 "metadata": {
  "celltoolbar": "Raw Cell Format",
  "kernelspec": {
   "display_name": "Python 3",
   "language": "python",
   "name": "python3"
  },
  "language_info": {
   "codemirror_mode": {
    "name": "ipython",
    "version": 3
   },
   "file_extension": ".py",
   "mimetype": "text/x-python",
   "name": "python",
   "nbconvert_exporter": "python",
   "pygments_lexer": "ipython3",
   "version": "3.7.3"
  }
 },
 "nbformat": 4,
 "nbformat_minor": 2
}
